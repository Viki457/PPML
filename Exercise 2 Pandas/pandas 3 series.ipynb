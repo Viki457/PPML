{
 "cells": [
  {
   "cell_type": "code",
   "execution_count": 1,
   "id": "d62fc748",
   "metadata": {},
   "outputs": [
    {
     "name": "stdout",
     "output_type": "stream",
     "text": [
      "0    P\n",
      "1    A\n",
      "2    N\n",
      "3    D\n",
      "4    A\n",
      "5    S\n",
      "dtype: object\n"
     ]
    }
   ],
   "source": [
    "import pandas as p\n",
    "import numpy as n\n",
    "data=n.array(['P','A','N','D','A','S'])\n",
    "table=p.Series(data)\n",
    "print(table)"
   ]
  },
  {
   "cell_type": "code",
   "execution_count": 2,
   "id": "3b860ae7",
   "metadata": {},
   "outputs": [
    {
     "name": "stdout",
     "output_type": "stream",
     "text": [
      "x    13\n",
      "y    12\n",
      "z    22\n",
      "dtype: int64\n"
     ]
    }
   ],
   "source": [
    "data1={'x':13,'y':12,'z':22}\n",
    "table1=p.Series(data1)\n",
    "print(table1)"
   ]
  },
  {
   "cell_type": "code",
   "execution_count": 3,
   "id": "ac907b2f",
   "metadata": {},
   "outputs": [
    {
     "name": "stdout",
     "output_type": "stream",
     "text": [
      "1    ello\n",
      "2    ello\n",
      "3    ello\n",
      "4    ello\n",
      "dtype: object\n"
     ]
    }
   ],
   "source": [
    "table2=p.Series('ello',index=[1,2,3,4])\n",
    "print(table2)"
   ]
  },
  {
   "cell_type": "code",
   "execution_count": 4,
   "id": "6c328ef8",
   "metadata": {},
   "outputs": [
    {
     "name": "stdout",
     "output_type": "stream",
     "text": [
      "1    ello\n",
      "3     llo\n",
      "4     elo\n",
      "6      lo\n",
      "dtype: object\n"
     ]
    }
   ],
   "source": [
    "table3=p.Series(['ello','llo','elo','lo'],index=[1,3,4,6])\n",
    "print(table3)"
   ]
  },
  {
   "cell_type": "code",
   "execution_count": 5,
   "id": "0d9b9283",
   "metadata": {},
   "outputs": [
    {
     "name": "stdout",
     "output_type": "stream",
     "text": [
      "0    1\n",
      "1    2\n",
      "2    3\n",
      "3    4\n",
      "dtype: int64\n",
      "RangeIndex(start=0, stop=4, step=1)\n",
      "[1 2 3 4]\n",
      "(4,)\n",
      "1\n",
      "4\n"
     ]
    }
   ],
   "source": [
    "array=p.Series(data=[1,2,3,4])\n",
    "print(array)\n",
    "print(array.index)\n",
    "print(array.values)\n",
    "print(array.shape)\n",
    "print(array.ndim)\n",
    "print(array.size)"
   ]
  },
  {
   "cell_type": "code",
   "execution_count": null,
   "id": "85221fe2",
   "metadata": {},
   "outputs": [],
   "source": []
  }
 ],
 "metadata": {
  "kernelspec": {
   "display_name": "Python 3 (ipykernel)",
   "language": "python",
   "name": "python3"
  },
  "language_info": {
   "codemirror_mode": {
    "name": "ipython",
    "version": 3
   },
   "file_extension": ".py",
   "mimetype": "text/x-python",
   "name": "python",
   "nbconvert_exporter": "python",
   "pygments_lexer": "ipython3",
   "version": "3.11.3"
  }
 },
 "nbformat": 4,
 "nbformat_minor": 5
}
