{
 "cells": [
  {
   "cell_type": "code",
   "execution_count": 3,
   "id": "81f5f129",
   "metadata": {},
   "outputs": [
    {
     "name": "stdout",
     "output_type": "stream",
     "text": [
      "   FIVE  SIX\n",
      "0    25   36\n",
      "1    25   36\n",
      "2    25   36\n",
      "3    25   36\n"
     ]
    }
   ],
   "source": [
    "import numpy as n\n",
    "import pandas as p\n",
    "table=p.DataFrame([[25,36]]*4,columns=['FIVE','SIX'])\n",
    "print(table)"
   ]
  },
  {
   "cell_type": "code",
   "execution_count": 5,
   "id": "546cacfa",
   "metadata": {},
   "outputs": [
    {
     "name": "stdout",
     "output_type": "stream",
     "text": [
      "   FIVE  SIX\n",
      "0   5.0  6.0\n",
      "1   5.0  6.0\n",
      "2   5.0  6.0\n",
      "3   5.0  6.0\n"
     ]
    }
   ],
   "source": [
    "print(table.apply(n.sqrt))"
   ]
  },
  {
   "cell_type": "code",
   "execution_count": 6,
   "id": "90562b29",
   "metadata": {},
   "outputs": [
    {
     "name": "stdout",
     "output_type": "stream",
     "text": [
      "0    61\n",
      "1    61\n",
      "2    61\n",
      "3    61\n",
      "dtype: int64\n"
     ]
    }
   ],
   "source": [
    "print(table.apply(n.sum,axis=1))"
   ]
  },
  {
   "cell_type": "code",
   "execution_count": 7,
   "id": "a16279f5",
   "metadata": {},
   "outputs": [
    {
     "name": "stdout",
     "output_type": "stream",
     "text": [
      "FIVE    100\n",
      "SIX     144\n",
      "dtype: int64\n"
     ]
    }
   ],
   "source": [
    "print(table.apply(n.sum,axis=0))"
   ]
  },
  {
   "cell_type": "code",
   "execution_count": 8,
   "id": "845df958",
   "metadata": {},
   "outputs": [
    {
     "name": "stdout",
     "output_type": "stream",
     "text": [
      "    X   Y   Z\n",
      "0  12  54   1\n",
      "1  31   4  12\n",
      "2  62  34  56\n"
     ]
    }
   ],
   "source": [
    "table1=p.DataFrame([[12,54,1],[31,4,12],[62,34,56]],columns=['X','Y','Z'])\n",
    "print(table1)"
   ]
  },
  {
   "cell_type": "code",
   "execution_count": 9,
   "id": "89ec87a4",
   "metadata": {},
   "outputs": [
    {
     "name": "stdout",
     "output_type": "stream",
     "text": [
      "      X   Y   Z\n",
      "min  12   4   1\n",
      "max  62  54  56\n"
     ]
    }
   ],
   "source": [
    "print(table1.agg(['min','max']))"
   ]
  },
  {
   "cell_type": "code",
   "execution_count": 10,
   "id": "1178a26a",
   "metadata": {},
   "outputs": [
    {
     "name": "stdout",
     "output_type": "stream",
     "text": [
      "       col1      col2\n",
      "1 -0.201022  0.678936\n",
      "2 -0.060823  0.641589\n",
      "0 -1.334105  0.907730\n"
     ]
    }
   ],
   "source": [
    "table3=p.DataFrame(n.random.randn(3,2),index=[1,2,0],columns=['col1','col2'])\n",
    "print(table3)\n"
   ]
  },
  {
   "cell_type": "code",
   "execution_count": 11,
   "id": "b7f7410a",
   "metadata": {},
   "outputs": [
    {
     "name": "stdout",
     "output_type": "stream",
     "text": [
      "       col1      col2\n",
      "0 -1.334105  0.907730\n",
      "1 -0.201022  0.678936\n",
      "2 -0.060823  0.641589\n"
     ]
    }
   ],
   "source": [
    "table4=table3.sort_index()\n",
    "print(table4)"
   ]
  },
  {
   "cell_type": "code",
   "execution_count": 12,
   "id": "f5d29b8e",
   "metadata": {},
   "outputs": [
    {
     "name": "stdout",
     "output_type": "stream",
     "text": [
      "       col1      col2\n",
      "0 -1.334105  0.907730\n",
      "1 -0.201022  0.678936\n",
      "2 -0.060823  0.641589\n"
     ]
    }
   ],
   "source": [
    "table5=table3.sort_values(by='col1')\n",
    "print(table5)"
   ]
  },
  {
   "cell_type": "code",
   "execution_count": 13,
   "id": "5f3db8e9",
   "metadata": {},
   "outputs": [
    {
     "name": "stdout",
     "output_type": "stream",
     "text": [
      "   ID     Name   sub\n",
      "0  12  Prakash  sub1\n",
      "1  34      Raj  sub2\n",
      "2  56   Sarath  sub3 \n",
      "\n",
      "    ID    Name   sub\n",
      "0   32  Keshav  sub3\n",
      "1   36   Rajiv  sub2\n",
      "2  154   Saran  sub1 \n",
      "\n",
      "   ID_x   Name_x   sub  ID_y  Name_y\n",
      "0    12  Prakash  sub1   154   Saran\n",
      "1    34      Raj  sub2    36   Rajiv\n",
      "2    56   Sarath  sub3    32  Keshav\n"
     ]
    }
   ],
   "source": [
    "t1=p.DataFrame({'ID':[12,34,56],'Name':['Prakash','Raj','Sarath'],'sub':['sub1','sub2','sub3']})\n",
    "print(t1,\"\\n\")\n",
    "t2=p.DataFrame({'ID':[32,36,154],'Name':['Keshav','Rajiv','Saran'],'sub':['sub3','sub2','sub1']})\n",
    "print(t2,\"\\n\")\n",
    "print(p.merge(t1,t2,on='sub'))"
   ]
  },
  {
   "cell_type": "code",
   "execution_count": null,
   "id": "536abafb",
   "metadata": {},
   "outputs": [],
   "source": []
  }
 ],
 "metadata": {
  "kernelspec": {
   "display_name": "Python 3 (ipykernel)",
   "language": "python",
   "name": "python3"
  },
  "language_info": {
   "codemirror_mode": {
    "name": "ipython",
    "version": 3
   },
   "file_extension": ".py",
   "mimetype": "text/x-python",
   "name": "python",
   "nbconvert_exporter": "python",
   "pygments_lexer": "ipython3",
   "version": "3.11.3"
  }
 },
 "nbformat": 4,
 "nbformat_minor": 5
}
