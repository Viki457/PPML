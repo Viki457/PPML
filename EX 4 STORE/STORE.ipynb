{
 "cells": [
  {
   "cell_type": "code",
   "execution_count": null,
   "id": "07e88717",
   "metadata": {},
   "outputs": [],
   "source": []
  },
  {
   "cell_type": "code",
   "execution_count": 6,
   "id": "cd099fd1",
   "metadata": {},
   "outputs": [
    {
     "name": "stdout",
     "output_type": "stream",
     "text": [
      "        a   b   c\n",
      "one    11  21  31\n",
      "two    22  33   2\n",
      "three  44  44   5\n"
     ]
    }
   ],
   "source": [
    "import pandas as p\n",
    "df=p.DataFrame([[11,21,31],[22,33,2],[44,44,5]],   \n",
    "         index=['one','two','three'],columns=['a','b','c'])\n",
    "\n",
    "print(df)\n",
    "df.to_excel(\"C:/Users/Tcs/Downloads/vikidon.xlsx\")"
   ]
  },
  {
   "cell_type": "code",
   "execution_count": 7,
   "id": "9126008e",
   "metadata": {},
   "outputs": [
    {
     "name": "stdout",
     "output_type": "stream",
     "text": [
      "       a   b   c\n",
      "four  10  45  31\n",
      "five  23  44   2\n",
      "six   55  56  59\n"
     ]
    }
   ],
   "source": [
    "df=p.DataFrame([[10,45,31],[23,44,2],[55,56,59]],  \n",
    "              index=['four','five','six'],columns=['a','b','c'])\n",
    "print(df)\n",
    "df.to_excel(\"C:/Users/Tcs/Downloads/vikidon1.xlsx\")\n"
   ]
  },
  {
   "cell_type": "code",
   "execution_count": 9,
   "id": "42540537",
   "metadata": {},
   "outputs": [],
   "source": [
    "x=p.read_excel(\"C:/Users/Tcs/Downloads/vikidon.xlsx\")\n"
   ]
  },
  {
   "cell_type": "code",
   "execution_count": 13,
   "id": "e75172bf",
   "metadata": {},
   "outputs": [
    {
     "name": "stderr",
     "output_type": "stream",
     "text": [
      "C:\\Users\\Tcs\\AppData\\Local\\Temp\\ipykernel_3920\\217855683.py:2: FutureWarning: The frame.append method is deprecated and will be removed from pandas in a future version. Use pandas.concat instead.\n",
      "  z=x.append(y)\n"
     ]
    }
   ],
   "source": [
    "y=p.read_excel(\"C:/Users/Tcs/Downloads/vikidon1.xlsx\")\n",
    "z=x.append(y)\n"
   ]
  },
  {
   "cell_type": "code",
   "execution_count": 11,
   "id": "acc5a34a",
   "metadata": {},
   "outputs": [],
   "source": [
    "z.to_excel(\"C:/Users/Tcs/Downloads/mergevikidon1.xlsx\")"
   ]
  },
  {
   "cell_type": "code",
   "execution_count": 18,
   "id": "06b9643c",
   "metadata": {},
   "outputs": [
    {
     "name": "stdout",
     "output_type": "stream",
     "text": [
      "  Unnamed: 0   a   b   c\n",
      "0       four  10  45  31\n",
      "0        one  11  21  31\n",
      "1        two  22  33   2\n",
      "1       five  23  44   2\n",
      "2      three  44  44   5\n",
      "2        six  55  56  59\n"
     ]
    }
   ],
   "source": [
    "df=z.sort_values([\"a\"])\n",
    "print(df)"
   ]
  },
  {
   "cell_type": "code",
   "execution_count": 19,
   "id": "8ff54c12",
   "metadata": {},
   "outputs": [
    {
     "name": "stdout",
     "output_type": "stream",
     "text": [
      "  Unnamed: 0   a   b   c\n",
      "0        one  11  21  31\n",
      "1        two  22  33   2\n",
      "2      three  44  44   5\n",
      "1       five  23  44   2\n",
      "0       four  10  45  31\n",
      "2        six  55  56  59\n"
     ]
    }
   ],
   "source": [
    "df=z.sort_values([\"b\"])\n",
    "print(df)"
   ]
  },
  {
   "cell_type": "code",
   "execution_count": 20,
   "id": "df7ffd01",
   "metadata": {},
   "outputs": [
    {
     "name": "stdout",
     "output_type": "stream",
     "text": [
      "  Unnamed: 0   a   b   c\n",
      "1        two  22  33   2\n",
      "1       five  23  44   2\n",
      "2      three  44  44   5\n",
      "0        one  11  21  31\n",
      "0       four  10  45  31\n",
      "2        six  55  56  59\n"
     ]
    }
   ],
   "source": [
    "df=z.sort_values([\"c\"])\n",
    "print(df)"
   ]
  },
  {
   "cell_type": "code",
   "execution_count": 21,
   "id": "0815443b",
   "metadata": {},
   "outputs": [],
   "source": [
    "df.to_excel(\"C:/Users/Tcs/Downloads/vikidon4.xlsx\")"
   ]
  },
  {
   "cell_type": "code",
   "execution_count": null,
   "id": "07d7865c",
   "metadata": {},
   "outputs": [],
   "source": []
  }
 ],
 "metadata": {
  "kernelspec": {
   "display_name": "Python 3 (ipykernel)",
   "language": "python",
   "name": "python3"
  },
  "language_info": {
   "codemirror_mode": {
    "name": "ipython",
    "version": 3
   },
   "file_extension": ".py",
   "mimetype": "text/x-python",
   "name": "python",
   "nbconvert_exporter": "python",
   "pygments_lexer": "ipython3",
   "version": "3.9.12"
  }
 },
 "nbformat": 4,
 "nbformat_minor": 5
}
