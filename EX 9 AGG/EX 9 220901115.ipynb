{
 "cells": [
  {
   "cell_type": "code",
   "execution_count": 2,
   "id": "9c58ec5d",
   "metadata": {},
   "outputs": [
    {
     "name": "stdout",
     "output_type": "stream",
     "text": [
      "original DataFrame\n",
      "      A    B    C\n",
      "0  1.0  2.0  3.0\n",
      "1  4.0  5.0  6.0\n",
      "2  7.0  8.0  9.0\n",
      "3  NaN  NaN  NaN\n",
      "aggregate function:aggregate()\n",
      "         A     B     C\n",
      "sum  12.0  15.0  18.0\n",
      "aggregate function:alias agg()\n",
      "         A     B     C\n",
      "sum  12.0  15.0  18.0\n"
     ]
    }
   ],
   "source": [
    "import pandas as pd\n",
    "import numpy as np\n",
    "df=pd.DataFrame([[1,2,3],[4,5,6],[7,8,9],[np.nan,np.nan,np.nan]],columns=['A','B','C'])\n",
    "print(\"original DataFrame\\n\",df)\n",
    "print(\"aggregate function:aggregate()\\n\",df.aggregate(['sum']))\n",
    "print(\"aggregate function:alias agg()\\n\",df.agg(['sum']))"
   ]
  },
  {
   "cell_type": "code",
   "execution_count": 3,
   "id": "d054c861",
   "metadata": {},
   "outputs": [
    {
     "name": "stdout",
     "output_type": "stream",
     "text": [
      "original DataFrame\n",
      "      A    B    C\n",
      "0  1.0  2.0  3.0\n",
      "1  4.0  5.0  6.0\n",
      "2  7.0  8.0  9.0\n",
      "3  NaN  NaN  NaN\n",
      "\n",
      "aggregate function to produce sum,min and max\n",
      "         A     B     C\n",
      "sum  12.0  15.0  18.0\n",
      "min   1.0   2.0   3.0\n",
      "max   7.0   8.0   9.0\n"
     ]
    }
   ],
   "source": [
    "a=df.agg(['sum','min','max'])\n",
    "print(\"original DataFrame\\n\",df)\n",
    "print(\"\\naggregate function to produce sum,min and max\\n\",a)"
   ]
  },
  {
   "cell_type": "code",
   "execution_count": 4,
   "id": "d9dc5490",
   "metadata": {},
   "outputs": [
    {
     "name": "stdout",
     "output_type": "stream",
     "text": [
      "\n",
      "original DataFrame\n",
      "      A    B    C\n",
      "0  1.0  2.0  3.0\n",
      "1  4.0  5.0  6.0\n",
      "2  7.0  8.0  9.0\n",
      "3  NaN  NaN  NaN\n",
      "\n",
      " Different aggregation per column\n",
      "         A    B\n",
      "sum  12.0  NaN\n",
      "min   1.0  2.0\n",
      "max   NaN  8.0\n"
     ]
    }
   ],
   "source": [
    "b=df.agg({'A':['sum','min'],'B':['min','max']})\n",
    "print(\"\\noriginal DataFrame\\n\",df)\n",
    "print(\"\\n Different aggregation per column\\n\",b)"
   ]
  },
  {
   "cell_type": "code",
   "execution_count": 5,
   "id": "0728b6b2",
   "metadata": {},
   "outputs": [
    {
     "name": "stdout",
     "output_type": "stream",
     "text": [
      "\n",
      "original DataFrame\n",
      "      A    B    C\n",
      "0  1.0  2.0  3.0\n",
      "1  4.0  5.0  6.0\n",
      "2  7.0  8.0  9.0\n",
      "3  NaN  NaN  NaN\n",
      "\n",
      " aggregate different function over the columns and rename the index of the resulting DaaFrame\n",
      "      A    B    C\n",
      "x  7.0  NaN  NaN\n",
      "y  NaN  2.0  NaN\n",
      "z  NaN  NaN  6.0\n"
     ]
    }
   ],
   "source": [
    "c=df.agg(x=('A',max),y=('B','min'),z=('C',np.mean))\n",
    "print(\"\\noriginal DataFrame\\n\",df)\n",
    "print(\"\\n aggregate different function over the columns and rename the index of the resulting DaaFrame\\n\",c)"
   ]
  },
  {
   "cell_type": "code",
   "execution_count": 6,
   "id": "516f3061",
   "metadata": {},
   "outputs": [
    {
     "name": "stdout",
     "output_type": "stream",
     "text": [
      "\n",
      "original DataFrame\n",
      "      A    B    C\n",
      "0  1.0  2.0  3.0\n",
      "1  4.0  5.0  6.0\n",
      "2  7.0  8.0  9.0\n",
      "3  NaN  NaN  NaN\n",
      "\n",
      "aggregate-sum:row wise\n",
      " 0     6.0\n",
      "1    15.0\n",
      "2    24.0\n",
      "3     0.0\n",
      "dtype: float64\n"
     ]
    }
   ],
   "source": [
    "d=df.agg(\"sum\",axis=\"columns\")\n",
    "print(\"\\noriginal DataFrame\\n\",df)\n",
    "print(\"\\naggregate-sum:row wise\\n\",d)      "
   ]
  },
  {
   "cell_type": "code",
   "execution_count": 7,
   "id": "68a7692e",
   "metadata": {},
   "outputs": [
    {
     "name": "stdout",
     "output_type": "stream",
     "text": [
      "\n",
      "original DataFrame\n",
      "      A    B    C\n",
      "0  1.0  2.0  3.0\n",
      "1  4.0  5.0  6.0\n",
      "2  7.0  8.0  9.0\n",
      "3  NaN  NaN  NaN\n",
      "\n",
      "aggrtegate-sum:column wise\n",
      " A    12.0\n",
      "B    15.0\n",
      "C    18.0\n",
      "dtype: float64\n"
     ]
    }
   ],
   "source": [
    "e=df.agg(\"sum\",axis=\"rows\")\n",
    "print(\"\\noriginal DataFrame\\n\",df)\n",
    "print(\"\\naggrtegate-sum:column wise\\n\",e)"
   ]
  },
  {
   "cell_type": "code",
   "execution_count": 8,
   "id": "9bebe465",
   "metadata": {},
   "outputs": [
    {
     "name": "stdout",
     "output_type": "stream",
     "text": [
      "\n",
      "original DataFrame\n",
      "      A    B    C\n",
      "0  1.0  2.0  3.0\n",
      "1  4.0  5.0  6.0\n",
      "2  7.0  8.0  9.0\n",
      "3  NaN  NaN  NaN\n",
      "\n",
      "summary of aggregate functions using describe()\n",
      "          A    B    C\n",
      "count  3.0  3.0  3.0\n",
      "mean   4.0  5.0  6.0\n",
      "std    3.0  3.0  3.0\n",
      "min    1.0  2.0  3.0\n",
      "25%    2.5  3.5  4.5\n",
      "50%    4.0  5.0  6.0\n",
      "75%    5.5  6.5  7.5\n",
      "max    7.0  8.0  9.0\n"
     ]
    }
   ],
   "source": [
    "print(\"\\noriginal DataFrame\\n\",df)\n",
    "print(\"\\nsummary of aggregate functions using describe()\\n\",df.describe())"
   ]
  },
  {
   "cell_type": "code",
   "execution_count": null,
   "id": "4c2be183",
   "metadata": {},
   "outputs": [],
   "source": []
  }
 ],
 "metadata": {
  "kernelspec": {
   "display_name": "Python 3 (ipykernel)",
   "language": "python",
   "name": "python3"
  },
  "language_info": {
   "codemirror_mode": {
    "name": "ipython",
    "version": 3
   },
   "file_extension": ".py",
   "mimetype": "text/x-python",
   "name": "python",
   "nbconvert_exporter": "python",
   "pygments_lexer": "ipython3",
   "version": "3.9.12"
  }
 },
 "nbformat": 4,
 "nbformat_minor": 5
}
