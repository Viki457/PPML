{
 "cells": [
  {
   "cell_type": "code",
   "execution_count": 4,
   "id": "1e009d06",
   "metadata": {},
   "outputs": [
    {
     "name": "stdout",
     "output_type": "stream",
     "text": [
      "\n",
      "original DataFrame\n",
      "      A      B  C  D  E\n",
      "0  foo    one  3  4  3\n",
      "1  foo    two  3  1  3\n",
      "2  bar  three  1  4  2\n",
      "3  foo    two  0  0  0\n",
      "4  bar    two  2  0  1\n",
      "5  foo    one  0  0  0\n"
     ]
    }
   ],
   "source": [
    "import pandas as pd\n",
    "import numpy as np\n",
    "df=pd.DataFrame({'A':['foo','foo','bar','foo','bar','foo'],\n",
    "                'B':['one','two','three','two','two','one'],\n",
    "                'C':np.random.randint(5,size=6),\n",
    "                'D':np.random.randint(5,size=6),\n",
    "                'E':np.random.randint(5,size=6)})\n",
    "print(\"\\noriginal DataFrame\\n\",df)"
   ]
  },
  {
   "cell_type": "code",
   "execution_count": 5,
   "id": "4176d18b",
   "metadata": {},
   "outputs": [
    {
     "name": "stdout",
     "output_type": "stream",
     "text": [
      "\n",
      "original DataFrame\n",
      "      A      B  C  D  E\n",
      "0  foo    one  3  4  3\n",
      "1  foo    two  3  1  3\n",
      "2  bar  three  1  4  2\n",
      "3  foo    two  0  0  0\n",
      "4  bar    two  2  0  1\n",
      "5  foo    one  0  0  0\n",
      "\n",
      "Group by(multi-colu,mn):witjh one column sum\n",
      "      A      B  C\n",
      "0  bar  three  1\n",
      "1  bar    two  2\n",
      "2  foo    one  3\n",
      "3  foo    two  3\n"
     ]
    }
   ],
   "source": [
    "df1=df.groupby(['A','B'],as_index=False)['C'].sum()\n",
    "print(\"\\noriginal DataFrame\\n\",df)\n",
    "print(\"\\nGroup by(multi-colu,mn):witjh one column sum\\n\",df1)"
   ]
  },
  {
   "cell_type": "code",
   "execution_count": 6,
   "id": "3b9680b7",
   "metadata": {},
   "outputs": [
    {
     "name": "stdout",
     "output_type": "stream",
     "text": [
      "\n",
      "original DataFrame\n",
      "      A      B  C  D  E\n",
      "0  foo    one  3  4  3\n",
      "1  foo    two  3  1  3\n",
      "2  bar  three  1  4  2\n",
      "3  foo    two  0  0  0\n",
      "4  bar    two  2  0  1\n",
      "5  foo    one  0  0  0\n",
      "\n",
      "Group by(multi-colu,mn):witjh multi column sum\n",
      "      A      B  C\n",
      "0  bar  three  1\n",
      "1  bar    two  2\n",
      "2  foo    one  3\n",
      "3  foo    two  3\n"
     ]
    }
   ],
   "source": [
    "df2=df.groupby(['A','B'],as_index=False)['C'].sum()\n",
    "print(\"\\noriginal DataFrame\\n\",df)\n",
    "print(\"\\nGroup by(multi-colu,mn):witjh multi column sum\\n\",df2)"
   ]
  },
  {
   "cell_type": "code",
   "execution_count": 8,
   "id": "2735e2da",
   "metadata": {},
   "outputs": [
    {
     "name": "stdout",
     "output_type": "stream",
     "text": [
      "\n",
      "original DataFrame\n",
      "      A      B  C  D  E\n",
      "0  foo    one  3  4  3\n",
      "1  foo    two  3  1  3\n",
      "2  bar  three  1  4  2\n",
      "3  foo    two  0  0  0\n",
      "4  bar    two  2  0  1\n",
      "5  foo    one  0  0  0\n",
      "\n",
      "compiened groupby and aggregte function\n",
      "      A      B  C\n",
      "0  bar  three  1\n",
      "1  bar    two  2\n",
      "2  foo    one  3\n",
      "3  foo    two  3\n"
     ]
    }
   ],
   "source": [
    "df3=df.groupby(['A','B'],as_index=False)['C'].sum()\n",
    "print(\"\\noriginal DataFrame\\n\",df)\n",
    "print(\"\\ncompiened groupby and aggregte function\\n\",df3)"
   ]
  },
  {
   "cell_type": "code",
   "execution_count": 10,
   "id": "8c2d1016",
   "metadata": {},
   "outputs": [
    {
     "name": "stdout",
     "output_type": "stream",
     "text": [
      "\n",
      " original DataFrame\n",
      "      A      B  C  D  E\n",
      "0  foo    one  3  4  3\n",
      "1  foo    two  3  1  3\n",
      "2  bar  three  1  4  2\n",
      "3  foo    two  0  0  0\n",
      "4  bar    two  2  0  1\n",
      "5  foo    one  0  0  0\n",
      "\n",
      "combined groupby and aggregate function-separate column headings\n",
      "      A      B  C  D  E\n",
      "0  foo    one  3  4  3\n",
      "1  foo    two  3  1  3\n",
      "2  bar  three  1  4  2\n",
      "3  foo    two  0  0  0\n",
      "4  bar    two  2  0  1\n",
      "5  foo    one  0  0  0\n"
     ]
    }
   ],
   "source": [
    "df4=(df.groupby(['A','B'])\n",
    "    .agg([('average','mean'),('total','sum')]))\n",
    "print(\"\\n original DataFrame\\n\",df)\n",
    "print(\"\\ncombined groupby and aggregate function-separate column headings\\n\",df)     "
   ]
  },
  {
   "cell_type": "code",
   "execution_count": 12,
   "id": "2a6dd2d7",
   "metadata": {},
   "outputs": [
    {
     "name": "stdout",
     "output_type": "stream",
     "text": [
      "\n",
      "original DataFrame\n",
      "      A      B  C  D  E\n",
      "0  foo    one  3  4  3\n",
      "1  foo    two  3  1  3\n",
      "2  bar  three  1  4  2\n",
      "3  foo    two  0  0  0\n",
      "4  bar    two  2  0  1\n",
      "5  foo    one  0  0  0\n",
      "\n",
      "groupby-sum function\n",
      "      A      B  C  D  E\n",
      "0  bar  three  1  4  2\n",
      "1  bar    two  2  0  1\n",
      "2  foo    one  3  4  3\n",
      "3  foo    two  3  1  3\n",
      "\n",
      "groupby and aggregate-sum function\n",
      "             C   D   E\n",
      "          sum sum sum\n",
      "A   B                \n",
      "bar three   1   4   2\n",
      "    two     2   0   1\n",
      "foo one     3   4   3\n",
      "    two     3   1   3\n"
     ]
    }
   ],
   "source": [
    "df5=df.groupby(['A','B'],as_index=False).sum()\n",
    "df6=(df.groupby(['A','B']).agg(['sum']))\n",
    "print(\"\\noriginal DataFrame\\n\",df)\n",
    "print(\"\\ngroupby-sum function\\n\",df5)\n",
    "print(\"\\ngroupby and aggregate-sum function\\n\",df6)"
   ]
  },
  {
   "cell_type": "code",
   "execution_count": null,
   "id": "232f4bbc",
   "metadata": {},
   "outputs": [],
   "source": []
  }
 ],
 "metadata": {
  "kernelspec": {
   "display_name": "Python 3 (ipykernel)",
   "language": "python",
   "name": "python3"
  },
  "language_info": {
   "codemirror_mode": {
    "name": "ipython",
    "version": 3
   },
   "file_extension": ".py",
   "mimetype": "text/x-python",
   "name": "python",
   "nbconvert_exporter": "python",
   "pygments_lexer": "ipython3",
   "version": "3.9.12"
  }
 },
 "nbformat": 4,
 "nbformat_minor": 5
}
