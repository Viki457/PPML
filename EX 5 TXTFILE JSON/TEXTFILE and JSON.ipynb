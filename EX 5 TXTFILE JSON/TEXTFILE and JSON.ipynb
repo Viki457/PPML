{
 "cells": [
  {
   "cell_type": "code",
   "execution_count": 4,
   "id": "1262cdf9",
   "metadata": {},
   "outputs": [],
   "source": [
    "f=open(\"C:/Users/Tcs/Downloads/textfile.txt\",'w')"
   ]
  },
  {
   "cell_type": "code",
   "execution_count": 5,
   "id": "5022c61e",
   "metadata": {},
   "outputs": [
    {
     "data": {
      "text/plain": [
       "10"
      ]
     },
     "execution_count": 5,
     "metadata": {},
     "output_type": "execute_result"
    }
   ],
   "source": [
    "f.write(\"firstline\\n\")"
   ]
  },
  {
   "cell_type": "code",
   "execution_count": 6,
   "id": "931e3fee",
   "metadata": {},
   "outputs": [
    {
     "data": {
      "text/plain": [
       "11"
      ]
     },
     "execution_count": 6,
     "metadata": {},
     "output_type": "execute_result"
    }
   ],
   "source": [
    "f.write(\"secondline\\n\")"
   ]
  },
  {
   "cell_type": "code",
   "execution_count": 7,
   "id": "5de380d7",
   "metadata": {},
   "outputs": [
    {
     "data": {
      "text/plain": [
       "10"
      ]
     },
     "execution_count": 7,
     "metadata": {},
     "output_type": "execute_result"
    }
   ],
   "source": [
    "f.write(\"thirdline\\n\")"
   ]
  },
  {
   "cell_type": "code",
   "execution_count": 16,
   "id": "539cae59",
   "metadata": {},
   "outputs": [],
   "source": [
    "f.close()"
   ]
  },
  {
   "cell_type": "code",
   "execution_count": 9,
   "id": "77cc982c",
   "metadata": {},
   "outputs": [],
   "source": [
    "k=open(\"C:/Users/Tcs/Downloads/textfile.txt\",'r')"
   ]
  },
  {
   "cell_type": "code",
   "execution_count": 10,
   "id": "2413d6a1",
   "metadata": {},
   "outputs": [
    {
     "name": "stdout",
     "output_type": "stream",
     "text": [
      "firstline\n",
      "\n"
     ]
    }
   ],
   "source": [
    "print(k.readline())"
   ]
  },
  {
   "cell_type": "code",
   "execution_count": 11,
   "id": "139a101c",
   "metadata": {},
   "outputs": [
    {
     "name": "stdout",
     "output_type": "stream",
     "text": [
      "secondline\n",
      "\n",
      "thirdline\n",
      "\n"
     ]
    }
   ],
   "source": [
    "print(k.readline())\n",
    "print(k.readline())"
   ]
  },
  {
   "cell_type": "code",
   "execution_count": 12,
   "id": "4241d7f9",
   "metadata": {},
   "outputs": [],
   "source": [
    "k.close()"
   ]
  },
  {
   "cell_type": "code",
   "execution_count": 2,
   "id": "6bdcb1ab",
   "metadata": {},
   "outputs": [],
   "source": [
    "m=open(\"C:/Users/Tcs/Downloads/textfile.txt\",'a')\n",
    "m.write(\"fourth line\\n\")\n",
    "m.write(\"fifth line\\n\")\n",
    "m.close()"
   ]
  },
  {
   "cell_type": "code",
   "execution_count": 17,
   "id": "6852c28e",
   "metadata": {},
   "outputs": [
    {
     "name": "stdout",
     "output_type": "stream",
     "text": [
      "firstline\n",
      "secondline\n",
      "thirdline\n",
      "fourth line\n",
      "fifth line\n",
      "\n",
      "['firstline\\n', 'secondline\\n', 'thirdline\\n', 'fourth line\\n', 'fifth line\\n']\n"
     ]
    }
   ],
   "source": [
    "p=open(\"C:/Users/Tcs/Downloads/textfile.txt\",'r')\n",
    "print(p.read())\n",
    "p.close()\n",
    "with open(\"C:/Users/Tcs/Downloads/textfile.txt\",'r') as file:\n",
    "    lines=file.readlines()\n",
    "    print(lines)"
   ]
  },
  {
   "cell_type": "code",
   "execution_count": 3,
   "id": "4d3b9809",
   "metadata": {},
   "outputs": [
    {
     "name": "stdout",
     "output_type": "stream",
     "text": [
      "John\n"
     ]
    }
   ],
   "source": [
    "import json\n",
    "x= '{\"name\":\"John\", \"age\":30, \"city\":\"New York\"}'\n",
    "y = json.loads(x)\n",
    "print(y[\"name\"])"
   ]
  },
  {
   "cell_type": "code",
   "execution_count": 21,
   "id": "cb28ce90",
   "metadata": {},
   "outputs": [
    {
     "name": "stdout",
     "output_type": "stream",
     "text": [
      "\"{\\\"name\\\":\\\"John\\\", \\\"age\\\":30, \\\"city\\\":\\\"New York\\\"}\"\n"
     ]
    }
   ],
   "source": [
    "x\n",
    "{\n",
    "\"name\": \"John\",\n",
    "\"age\": 30,\n",
    "\"city\": \"NewYork\"\n",
    "\n",
    "}\n",
    "y = json.dumps(x)\n",
    "\n",
    "print(y)\n",
    "\n"
   ]
  },
  {
   "cell_type": "code",
   "execution_count": 2,
   "id": "52c3036c",
   "metadata": {},
   "outputs": [
    {
     "ename": "NameError",
     "evalue": "name 'lines' is not defined",
     "output_type": "error",
     "traceback": [
      "\u001b[1;31m---------------------------------------------------------------------------\u001b[0m",
      "\u001b[1;31mNameError\u001b[0m                                 Traceback (most recent call last)",
      "Cell \u001b[1;32mIn[2], line 1\u001b[0m\n\u001b[1;32m----> 1\u001b[0m \u001b[38;5;28mprint\u001b[39m(lines)\n",
      "\u001b[1;31mNameError\u001b[0m: name 'lines' is not defined"
     ]
    }
   ],
   "source": []
  },
  {
   "cell_type": "code",
   "execution_count": 3,
   "id": "c9675af4",
   "metadata": {},
   "outputs": [
    {
     "ename": "NameError",
     "evalue": "name 'file' is not defined",
     "output_type": "error",
     "traceback": [
      "\u001b[1;31m---------------------------------------------------------------------------\u001b[0m",
      "\u001b[1;31mNameError\u001b[0m                                 Traceback (most recent call last)",
      "Cell \u001b[1;32mIn[3], line 1\u001b[0m\n\u001b[1;32m----> 1\u001b[0m lines\u001b[38;5;241m=\u001b[39mfile\u001b[38;5;241m.\u001b[39mreadlines()\n\u001b[0;32m      2\u001b[0m \u001b[38;5;28mprint\u001b[39m(lines)\n",
      "\u001b[1;31mNameError\u001b[0m: name 'file' is not defined"
     ]
    }
   ],
   "source": []
  },
  {
   "cell_type": "code",
   "execution_count": null,
   "id": "a3a73697",
   "metadata": {},
   "outputs": [],
   "source": []
  }
 ],
 "metadata": {
  "kernelspec": {
   "display_name": "Python 3 (ipykernel)",
   "language": "python",
   "name": "python3"
  },
  "language_info": {
   "codemirror_mode": {
    "name": "ipython",
    "version": 3
   },
   "file_extension": ".py",
   "mimetype": "text/x-python",
   "name": "python",
   "nbconvert_exporter": "python",
   "pygments_lexer": "ipython3",
   "version": "3.11.3"
  }
 },
 "nbformat": 4,
 "nbformat_minor": 5
}
