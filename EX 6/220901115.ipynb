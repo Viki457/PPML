{
 "cells": [
  {
   "cell_type": "code",
   "execution_count": 1,
   "id": "77689518",
   "metadata": {},
   "outputs": [],
   "source": [
    "import pandas as pd \n",
    "import numpy as np\n",
    "\n"
   ]
  },
  {
   "cell_type": "code",
   "execution_count": 2,
   "id": "671090f5",
   "metadata": {},
   "outputs": [
    {
     "name": "stdout",
     "output_type": "stream",
     "text": [
      "        one       two     three\n",
      "a -0.788131  0.806449 -0.864389\n",
      "c -2.082081 -0.683090  0.415641\n",
      "e  1.279873 -0.702494  0.664043\n",
      "f -0.318943 -1.058340  0.928040\n",
      "h  1.135188  1.898588  0.541814\n"
     ]
    }
   ],
   "source": [
    "df=pd.DataFrame(np.random.randn(5, 3), index=['a', 'c', 'e', 'f','h' ],columns=['one', 'two', 'three'])\n",
    "print(df)"
   ]
  },
  {
   "cell_type": "code",
   "execution_count": 3,
   "id": "a517e077",
   "metadata": {},
   "outputs": [
    {
     "name": "stdout",
     "output_type": "stream",
     "text": [
      "Original DataF rame with NaN\n",
      "         one       two     three\n",
      "a -0.788131  0.806449 -0.864389\n",
      "b       NaN       NaN       NaN\n",
      "c -2.082081 -0.683090  0.415641\n",
      "d       NaN       NaN       NaN\n",
      "e  1.279873 -0.702494  0.664043\n",
      "f -0.318943 -1.058340  0.928040\n",
      "g       NaN       NaN       NaN\n",
      "h  1.135188  1.898588  0.541814\n",
      "\n",
      "\n"
     ]
    }
   ],
   "source": [
    "df=df.reindex(['a','b','c','d','e','f','g','h'])\n",
    "print(\"Original DataF rame with NaN\\n\",df)\n",
    "print(\"\\n\")"
   ]
  },
  {
   "cell_type": "code",
   "execution_count": 4,
   "id": "6c23160f",
   "metadata": {},
   "outputs": [
    {
     "name": "stdout",
     "output_type": "stream",
     "text": [
      "Dropped Data Frame\n",
      "         one       two     three\n",
      "a -0.788131  0.806449 -0.864389\n",
      "c -2.082081 -0.683090  0.415641\n",
      "e  1.279873 -0.702494  0.664043\n",
      "f -0.318943 -1.058340  0.928040\n",
      "h  1.135188  1.898588  0.541814\n",
      "\n",
      "\n"
     ]
    }
   ],
   "source": [
    "print(\"Dropped Data Frame\\n\",df.dropna())\n",
    "print(\"\\n\")"
   ]
  },
  {
   "cell_type": "code",
   "execution_count": 5,
   "id": "a97a3291",
   "metadata": {},
   "outputs": [
    {
     "name": "stdout",
     "output_type": "stream",
     "text": [
      "Original DataFrame:\n",
      "         one       two     three\n",
      "a -0.722143 -0.189024 -0.286251\n",
      "b       NaN       NaN       NaN\n",
      "c  0.381082 -0.621267  1.730006\n",
      "\n",
      "\n"
     ]
    }
   ],
   "source": [
    "df = pd.DataFrame(np.random.randn(3, 3), index=['a', 'c', 'e'],columns=['one','two','three'])\n",
    "df = df.reindex(['a', 'b', 'c'])\n",
    "print (\"Original DataFrame:\\n\",df)\n",
    "print(\"\\n\")"
   ]
  },
  {
   "cell_type": "code",
   "execution_count": 7,
   "id": "bf6ed043",
   "metadata": {},
   "outputs": [
    {
     "name": "stdout",
     "output_type": "stream",
     "text": [
      "NaN replaced with '0':\n",
      "\n",
      "        one       two     three\n",
      "a -0.722143 -0.189024 -0.286251\n",
      "b  0.000000  0.000000  0.000000\n",
      "c  0.381082 -0.621267  1.730006\n",
      "\n",
      "Origina1 DataFrame:\n",
      "     one   two\n",
      "0    10  1000\n",
      "1    20     0\n",
      "2    30    30\n",
      "3    40    40\n",
      "4    50    50\n",
      "5  2000    60\n",
      "\n",
      " DataFrame with replaced values:\n",
      "\n",
      "   one  two\n",
      "0   10   10\n",
      "1   20  100\n",
      "2   30   30\n",
      "3  400  400\n",
      "4   50   50\n",
      "5   60   60\n"
     ]
    }
   ],
   "source": [
    "print (\"NaN replaced with '0':\\n\")\n",
    "print(df.fillna(0))\n",
    "\n",
    "\n",
    "        \n",
    "df=pd.DataFrame({'one':(10,20,30,40,50,2000),'two':(1000,0,30,40,50,60)})\n",
    "print(\"\\nOrigina1 DataFrame:\\n\",df)\n",
    "print(\"\\n DataFrame with replaced values:\\n\")\n",
    "print(df.replace({1000:10,2000:60,40:400,0:100}))"
   ]
  },
  {
   "cell_type": "code",
   "execution_count": 8,
   "id": "5f1670c9",
   "metadata": {},
   "outputs": [
    {
     "name": "stdout",
     "output_type": "stream",
     "text": [
      "\n",
      "Origina1 DataFrame:\n",
      "     one   two\n",
      "0    10  1000\n",
      "1    20     0\n",
      "2    30    30\n",
      "3    40    40\n",
      "4    50    50\n",
      "5  2000    60\n",
      "\n",
      " DataFrame with replaced values:\n",
      "\n",
      "   one  two\n",
      "0   10   10\n",
      "1   20  100\n",
      "2   30   30\n",
      "3  400  400\n",
      "4   50   50\n",
      "5   60   60\n"
     ]
    }
   ],
   "source": [
    "df=pd.DataFrame({'one':(10,20,30,40,50,2000),'two':(1000,0,30,40,50,60)})\n",
    "print(\"\\nOrigina1 DataFrame:\\n\",df)\n",
    "print(\"\\n DataFrame with replaced values:\\n\")\n",
    "print(df.replace({1000:10,2000:60,40:400,0:100}))"
   ]
  },
  {
   "cell_type": "code",
   "execution_count": 9,
   "id": "69a2a80f",
   "metadata": {},
   "outputs": [
    {
     "name": "stdout",
     "output_type": "stream",
     "text": [
      "\n",
      "OriginaI DataFrame:\n",
      "™         one       two     three\n",
      "a  0.010416 -2.277964 -0.356899\n",
      "b       NaN       NaN       NaN\n",
      "c -0.868186  1.666734 -0.670303\n",
      "d       NaN       NaN       NaN\n",
      "e -1.493567  0.032356 -1.727499\n",
      "f  1.450119  0.471222  0.279873\n",
      "g       NaN       NaN       NaN\n",
      "h  2.934687 -1.357005 -0.144403\n",
      "\n",
      "Nan- with True fi1l:\n",
      "\n",
      "a    False\n",
      "b     True\n",
      "c    False\n",
      "d     True\n",
      "e    False\n",
      "f    False\n",
      "g     True\n",
      "h    False\n",
      "Name: one, dtype: bool\n"
     ]
    }
   ],
   "source": [
    "df =pd.DataFrame(np.random.randn(5, 3), index=['a', 'c', 'e', 'f','h'], columns=['one', 'two', 'three'])\n",
    "df = df.reindex(['a', 'b', 'c', 'd', 'e', 'f', 'g', 'h'])\n",
    "print(\"\\nOriginaI DataFrame:\\n™\",df)\n",
    "print(\"\\nNan- with True fi1l:\\n\")\n",
    "print (df['one'].isnull())"
   ]
  },
  {
   "cell_type": "code",
   "execution_count": 10,
   "id": "411a52d4",
   "metadata": {},
   "outputs": [
    {
     "name": "stdout",
     "output_type": "stream",
     "text": [
      "\n",
      "OriginaI DataFrame:\n",
      "         one       two     three\n",
      "n       NaN       NaN       NaN\n",
      "b       NaN       NaN       NaN\n",
      "c  0.335191 -1.063929  0.636804\n",
      "d       NaN       NaN       NaN\n",
      "e  1.135178  0.767765 -0.785604\n",
      "f -0.333936 -1.129813  0.070942\n",
      "g       NaN       NaN       NaN\n",
      "h -0.689243  1.046310  0.614678\n"
     ]
    }
   ],
   "source": [
    "df=pd.DataFrame(np.random.randn(5, 3), index=['a', 'c', 'e', 'f','h'],columns=['one', 'two', 'three' ] )\n",
    "df=df.reindex(['n', 'b', 'c', 'd', 'e', 'f', 'g', 'h'])\n",
    "print(\"\\nOriginaI DataFrame:\\n\",df)\n"
   ]
  },
  {
   "cell_type": "code",
   "execution_count": 11,
   "id": "c1210d02",
   "metadata": {},
   "outputs": [
    {
     "name": "stdout",
     "output_type": "stream",
     "text": [
      "\n",
      " NaN - Filled with Forward vaIue3:\n",
      "\n",
      "        one       two     three\n",
      "n       NaN       NaN       NaN\n",
      "b       NaN       NaN       NaN\n",
      "c  0.335191 -1.063929  0.636804\n",
      "d  0.335191 -1.063929  0.636804\n",
      "e  1.135178  0.767765 -0.785604\n",
      "f -0.333936 -1.129813  0.070942\n",
      "g -0.333936 -1.129813  0.070942\n",
      "h -0.689243  1.046310  0.614678\n",
      "\n",
      "NaN - Filled with Background values:\n",
      "\n",
      "        one       two     three\n",
      "n  0.335191 -1.063929  0.636804\n",
      "b  0.335191 -1.063929  0.636804\n",
      "c  0.335191 -1.063929  0.636804\n",
      "d  1.135178  0.767765 -0.785604\n",
      "e  1.135178  0.767765 -0.785604\n",
      "f -0.333936 -1.129813  0.070942\n",
      "g -0.689243  1.046310  0.614678\n",
      "h -0.689243  1.046310  0.614678\n"
     ]
    }
   ],
   "source": [
    "print(\"\\n NaN - Filled with Forward vaIue3:\\n\")\n",
    "print (df.fillna(method='pad'))\n",
    "print(\"\\nNaN - Filled with Background values:\\n\")\n",
    "print (df.fillna(method='bfill'))"
   ]
  },
  {
   "cell_type": "code",
   "execution_count": null,
   "id": "8d60fa57",
   "metadata": {},
   "outputs": [],
   "source": []
  }
 ],
 "metadata": {
  "kernelspec": {
   "display_name": "Python 3 (ipykernel)",
   "language": "python",
   "name": "python3"
  },
  "language_info": {
   "codemirror_mode": {
    "name": "ipython",
    "version": 3
   },
   "file_extension": ".py",
   "mimetype": "text/x-python",
   "name": "python",
   "nbconvert_exporter": "python",
   "pygments_lexer": "ipython3",
   "version": "3.9.12"
  }
 },
 "nbformat": 4,
 "nbformat_minor": 5
}
