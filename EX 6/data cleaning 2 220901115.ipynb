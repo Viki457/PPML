{
 "cells": [
  {
   "cell_type": "code",
   "execution_count": 8,
   "id": "f24dcaef",
   "metadata": {
    "scrolled": true
   },
   "outputs": [
    {
     "name": "stdout",
     "output_type": "stream",
     "text": [
      "Original data set from Excelfile:\n",
      "\n"
     ]
    }
   ],
   "source": [
    "import pandas as pd\n",
    "pd.set_option('display.max_columns', 10)\n",
    "print(\"Original data set from Excelfile:\\n\") "
   ]
  },
  {
   "cell_type": "code",
   "execution_count": 9,
   "id": "e926cfc0",
   "metadata": {
    "scrolled": true
   },
   "outputs": [
    {
     "name": "stdout",
     "output_type": "stream",
     "text": [
      "      NAME  ROLL NO.  SUB 1  SUB 2  SUB 3  SUB 4  SUB 5  TOTAL\n",
      "0     Kinn       101     90     79     88     96     95    448\n",
      "1  Porsche       102     86     98     68     76     82    410\n",
      "2    Vegas       103     56     78     89     90    100    413\n",
      "3     Pete       104     89     56     79     69     97    390\n",
      "4  Sarawat       105     43     45     65     76     87    316\n",
      "5     Tine       106     67     88     97     67     43    362\n",
      "6     Fort       107     49     71     69     58     42    289\n",
      "7     Rain       108     57     78     40     93     91    359\n",
      "8      Sky       109     50     68     94     83     71    366\n",
      "9     Payu       110     69     49     75     93     89    375\n"
     ]
    }
   ],
   "source": []
  },
  {
   "cell_type": "code",
   "execution_count": 14,
   "id": "cc1d98e4",
   "metadata": {},
   "outputs": [
    {
     "data": {
      "text/plain": [
       "0       Kinn\n",
       "1    Porsche\n",
       "2      Vegas\n",
       "3       Pete\n",
       "4    Sarawat\n",
       "5       Tine\n",
       "6       Fort\n",
       "7       Rain\n",
       "8        Sky\n",
       "9       Payu\n",
       "Name: NAME, dtype: object"
      ]
     },
     "execution_count": 14,
     "metadata": {},
     "output_type": "execute_result"
    }
   ],
   "source": [
    "f=df['NAME'].str.strip()\n",
    "f.to_excel(\"D:\\sampIe22.xlsx\") \n",
    "f"
   ]
  },
  {
   "cell_type": "code",
   "execution_count": 47,
   "id": "9506585c",
   "metadata": {},
   "outputs": [
    {
     "name": "stdout",
     "output_type": "stream",
     "text": [
      "\n",
      "Replace value with Forward:\n",
      "\n",
      "      NAME  ROLL NO.  SUB 1  SUB 2  SUB 3  SUB 4  SUB 5  TOTAL\n",
      "0     Kinn     101.0   90.0   79.0   88.0   96.0   95.0  448.0\n",
      "a     Kinn     101.0   90.0   79.0   88.0   96.0   95.0  448.0\n",
      "1  Porsche     102.0   86.0   98.0   68.0   76.0   82.0  410.0\n",
      "b  Porsche     102.0   86.0   98.0   68.0   76.0   82.0  410.0\n",
      "2    Vegas     103.0   56.0   78.0   89.0   90.0  100.0  413.0\n",
      "c    Vegas     103.0   56.0   78.0   89.0   90.0  100.0  413.0\n",
      "3     Pete     104.0   89.0   56.0   79.0   69.0   97.0  390.0\n",
      "d     Pete     104.0   89.0   56.0   79.0   69.0   97.0  390.0\n",
      "4  Sarawat     105.0   43.0   45.0   65.0   76.0   87.0  316.0\n",
      "e  Sarawat     105.0   43.0   45.0   65.0   76.0   87.0  316.0\n",
      "5     Tine     106.0   67.0   88.0   97.0   67.0   43.0  362.0\n",
      "f     Tine     106.0   67.0   88.0   97.0   67.0   43.0  362.0\n"
     ]
    }
   ],
   "source": [
    "print(\"\\nReplace value with Forward:\\n\")\n",
    "df=df.reindex([0,'a',1,'b',2,'c',3,'d',4,'e',5,'f'])C                          \n",
    "k=df.fillna(method='pad')\n",
    "print(k)"
   ]
  },
  {
   "cell_type": "code",
   "execution_count": 48,
   "id": "7bcc78f5",
   "metadata": {},
   "outputs": [
    {
     "name": "stdout",
     "output_type": "stream",
     "text": [
      "\n",
      "The above updated data set will be stored in sampIe2.xlsx file\n",
      "\n",
      "\n",
      " Drop one particular column and its values : \n",
      "\n",
      "      NAME  ROLL NO.  SUB 1  SUB 2  SUB 3  SUB 4  SUB 5\n",
      "0     Kinn     101.0   90.0   79.0   88.0   96.0   95.0\n",
      "a     Kinn     101.0   90.0   79.0   88.0   96.0   95.0\n",
      "1  Porsche     102.0   86.0   98.0   68.0   76.0   82.0\n",
      "b  Porsche     102.0   86.0   98.0   68.0   76.0   82.0\n",
      "2    Vegas     103.0   56.0   78.0   89.0   90.0  100.0\n",
      "c    Vegas     103.0   56.0   78.0   89.0   90.0  100.0\n",
      "3     Pete     104.0   89.0   56.0   79.0   69.0   97.0\n",
      "d     Pete     104.0   89.0   56.0   79.0   69.0   97.0\n",
      "4  Sarawat     105.0   43.0   45.0   65.0   76.0   87.0\n",
      "e  Sarawat     105.0   43.0   45.0   65.0   76.0   87.0\n",
      "5     Tine     106.0   67.0   88.0   97.0   67.0   43.0\n",
      "f     Tine     106.0   67.0   88.0   97.0   67.0   43.0\n"
     ]
    }
   ],
   "source": [
    "print(\"\\nThe above updated data set will be stored in sampIe2.xlsx file\\n\")\n",
    "k.to_excel(\"d:\\sampIe2.xlsx\")\n",
    "print(\"\\n Drop one particular column and its values : \\n\")\n",
    "k.drop(['TOTAL'],axis=1, inplace=True)\n",
    "print(k)"
   ]
  },
  {
   "cell_type": "code",
   "execution_count": 22,
   "id": "8bdc0fbb",
   "metadata": {},
   "outputs": [
    {
     "name": "stdout",
     "output_type": "stream",
     "text": [
      "\n",
      "The above ripdatecl data set will be stored in sampIe3.xlsx file \n",
      " \n",
      "\n",
      "Drop NaN rows:\n",
      "\n",
      "      NAME  ROLL NO.  SUB 1  SUB 2  SUB 3  SUB 4  SUB 5  TOTAL\n",
      "0     Kinn     101.0   90.0   79.0   88.0   96.0   95.0  448.0\n",
      "a      NaN       NaN    NaN    NaN    NaN    NaN    NaN    NaN\n",
      "1  Porsche     102.0   86.0   98.0   68.0   76.0   82.0  410.0\n",
      "b      NaN       NaN    NaN    NaN    NaN    NaN    NaN    NaN\n",
      "2    Vegas     103.0   56.0   78.0   89.0   90.0  100.0  413.0\n",
      "c      NaN       NaN    NaN    NaN    NaN    NaN    NaN    NaN\n",
      "3     Pete     104.0   89.0   56.0   79.0   69.0   97.0  390.0\n",
      "d      NaN       NaN    NaN    NaN    NaN    NaN    NaN    NaN\n",
      "4  Sarawat     105.0   43.0   45.0   65.0   76.0   87.0  316.0\n",
      "e      NaN       NaN    NaN    NaN    NaN    NaN    NaN    NaN\n",
      "5     Tine     106.0   67.0   88.0   97.0   67.0   43.0  362.0\n",
      "f      NaN       NaN    NaN    NaN    NaN    NaN    NaN    NaN\n"
     ]
    }
   ],
   "source": [
    "print(\"\\nThe above ripdatecl data set will be stored in sampIe3.xlsx file \\n \")\n",
    "k.to_excel(\"d:\\sampIe2.xlsx\")\n",
    "print(\"\\nDrop NaN rows:\\n\")\n",
    "df=pd.read_excel(\"load 82 excel.xlsx\")\n",
    "df=df.reindex([0,'a',1,'b',2,'c',3,'d',4,'e',5,'f'])\n",
    "print(df)"
   ]
  },
  {
   "cell_type": "code",
   "execution_count": 23,
   "id": "8889f529",
   "metadata": {},
   "outputs": [
    {
     "name": "stdout",
     "output_type": "stream",
     "text": [
      "      NAME  ROLL NO.  SUB 1  SUB 2  SUB 3  SUB 4  SUB 5  TOTAL\n",
      "0     Kinn     101.0   90.0   79.0   88.0   96.0   95.0  448.0\n",
      "1  Porsche     102.0   86.0   98.0   68.0   76.0   82.0  410.0\n",
      "2    Vegas     103.0   56.0   78.0   89.0   90.0  100.0  413.0\n",
      "3     Pete     104.0   89.0   56.0   79.0   69.0   97.0  390.0\n",
      "4  Sarawat     105.0   43.0   45.0   65.0   76.0   87.0  316.0\n",
      "5     Tine     106.0   67.0   88.0   97.0   67.0   43.0  362.0\n",
      "\n",
      "The above updated data set will be stored in sampleS.xlsx file. \n",
      "\n",
      "\n",
      "RepIace values:\n",
      "\n"
     ]
    }
   ],
   "source": [
    "x=df.dropna()\n",
    "print(x)\n",
    "print(\"\\nThe above updated data set will be stored in sampleS.xlsx file. \\n\")\n",
    "x.to_excel(\"d:\\sample5.xlsx\")\n",
    "print(\"\\nRepIace values:\\n\")"
   ]
  },
  {
   "cell_type": "code",
   "execution_count": 24,
   "id": "d9553287",
   "metadata": {},
   "outputs": [
    {
     "name": "stdout",
     "output_type": "stream",
     "text": [
      "Original data set:\n",
      "\n",
      "      NAME  ROLL NO.  SUB 1  SUB 2  SUB 3  SUB 4  SUB 5  TOTAL\n",
      "0     Kinn       101     90     79     88     96     95    448\n",
      "1  Porsche       102     86     98     68     76     82    410\n",
      "2    Vegas       103     56     78     89     90    100    413\n",
      "3     Pete       104     89     56     79     69     97    390\n",
      "4  Sarawat       105     43     45     65     76     87    316\n",
      "5     Tine       106     67     88     97     67     43    362\n",
      "6     Fort       107     49     71     69     58     42    289\n",
      "7     Rain       108     57     78     40     93     91    359\n",
      "8      Sky       109     50     68     94     83     71    366\n",
      "9     Payu       110     69     49     75     93     89    375\n"
     ]
    }
   ],
   "source": [
    "n=pd.read_excel(\"load 82 excel.xlsx\")\n",
    "print(\"Original data set:\\n\") \n",
    "print(n)"
   ]
  },
  {
   "cell_type": "code",
   "execution_count": 27,
   "id": "a3c4742d",
   "metadata": {},
   "outputs": [
    {
     "name": "stdout",
     "output_type": "stream",
     "text": [
      "\n",
      "Updated dataset with replaced values: (49:SO)\n",
      "\n",
      "      NAME  ROLL NO.  SUB 1  SUB 2  SUB 3  SUB 4  SUB 5  TOTAL\n",
      "0     Kinn       101     90     79     88     96     95    448\n",
      "1  Porsche       102     86     98     68     76     82    410\n",
      "2    Vegas       103     56     78     89     90    100    413\n",
      "3     Pete       104     89     56     79     69     97    390\n",
      "4  Sarawat       105     43     45     65     76     87    316\n",
      "5     Tine       106     67     88     97     67     43    362\n",
      "6     Fort       107      0     71     69     58     42    289\n",
      "7     Rain       108     57     78     40     93     91    359\n",
      "8      Sky       109     50     68     94     83     71    366\n",
      "9     Payu       110     69      0     75     93     89    375\n",
      "\n",
      "The above updated data set will be stored in sampIe6.x1sx file. \n",
      "\n"
     ]
    }
   ],
   "source": [
    "y=n.replace({49:0})\n",
    "print(\"\\nUpdated dataset with replaced values: (49:SO)\\n\")\n",
    "print(y)\n",
    "print(\"\\nThe above updated data set will be stored in sampIe6.x1sx file. \\n\")"
   ]
  },
  {
   "cell_type": "code",
   "execution_count": 32,
   "id": "cc179ebd",
   "metadata": {},
   "outputs": [
    {
     "name": "stdout",
     "output_type": "stream",
     "text": [
      "Original data set from Excelfile:\n",
      "\n",
      "      NAME  ROLL NO.  SUB 1  SUB 2  SUB 3  SUB 4  SUB 5  TOTAL\n",
      "0     Kinn       101     90     79     88     96     95    448\n",
      "1  Porsche       102     86     98     68     76     82    410\n",
      "2    Vegas       103     56     78     89     90    100    413\n",
      "3     Pete       104     89     56     79     69     97    390\n",
      "4  Sarawat       105     43     45     65     76     87    316\n",
      "5     Tine       106     67     88     97     67     43    362\n",
      "6     Fort       107     49     71     69     58     42    289\n",
      "7     Rain       108     57     78     40     93     91    359\n",
      "8      Sky       109     50     68     94     83     71    366\n",
      "9     Payu       110     69     49     75     93     89    375\n"
     ]
    }
   ],
   "source": [
    "y.to_excel(\"d:\\sampIe6.xlsx\")\n",
    "print(\"Original data set from Excelfile:\\n\")\n",
    "df=pd.read_excel(\"load 82 excel.xlsx\") \n",
    "print(df)"
   ]
  },
  {
   "cell_type": "code",
   "execution_count": 35,
   "id": "c9513f27",
   "metadata": {},
   "outputs": [
    {
     "name": "stdout",
     "output_type": "stream",
     "text": [
      "\n",
      "Extract the particular record based on the isin() function condition:\n",
      "\n",
      "   NAME  ROLL NO.  SUB 1  SUB 2  SUB 3  SUB 4  SUB 5  TOTAL\n",
      "9  Payu       110     69     49     75     93     89    375\n"
     ]
    }
   ],
   "source": [
    "print(\"\\nExtract the particular record based on the isin() function condition:\\n\")\n",
    "new=df['SUB 2'].isin({49})\n",
    "print(df[new])"
   ]
  },
  {
   "cell_type": "code",
   "execution_count": null,
   "id": "66c51231",
   "metadata": {},
   "outputs": [],
   "source": []
  }
 ],
 "metadata": {
  "kernelspec": {
   "display_name": "Python 3 (ipykernel)",
   "language": "python",
   "name": "python3"
  },
  "language_info": {
   "codemirror_mode": {
    "name": "ipython",
    "version": 3
   },
   "file_extension": ".py",
   "mimetype": "text/x-python",
   "name": "python",
   "nbconvert_exporter": "python",
   "pygments_lexer": "ipython3",
   "version": "3.9.12"
  }
 },
 "nbformat": 4,
 "nbformat_minor": 5
}
