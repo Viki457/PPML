{
 "cells": [
  {
   "cell_type": "code",
   "execution_count": 2,
   "id": "99e6cc4d",
   "metadata": {},
   "outputs": [
    {
     "name": "stdout",
     "output_type": "stream",
     "text": [
      "[[1 2 3 4]\n",
      " [5 6 7 8]\n",
      " [0 2 4 8]]\n"
     ]
    }
   ],
   "source": [
    "import numpy as np \n",
    "a=np.array([[1,2,3,4],[5,6,7,8],[0,2,4,8]])\n",
    "print(a)"
   ]
  },
  {
   "cell_type": "code",
   "execution_count": 3,
   "id": "1866cb17",
   "metadata": {},
   "outputs": [
    {
     "name": "stdout",
     "output_type": "stream",
     "text": [
      "[[[0. 0. 0.]\n",
      "  [0. 0. 0.]\n",
      "  [0. 0. 0.]\n",
      "  [0. 0. 0.]]]\n"
     ]
    }
   ],
   "source": [
    "b=np.zeros((1,4,3))\n",
    "print(b) "
   ]
  },
  {
   "cell_type": "code",
   "execution_count": 6,
   "id": "794fa329",
   "metadata": {},
   "outputs": [
    {
     "name": "stdout",
     "output_type": "stream",
     "text": [
      "[[0.18075439 0.87401942 0.77066422]\n",
      " [0.0221673  0.92303016 0.69272564]\n",
      " [0.47121699 0.8045072  0.39755447]\n",
      " [0.70123345 0.52609648 0.61254204]]\n"
     ]
    }
   ],
   "source": [
    "d=np.random.random((4,3))\n",
    "print(d)"
   ]
  },
  {
   "cell_type": "code",
   "execution_count": 7,
   "id": "220654ed",
   "metadata": {},
   "outputs": [
    {
     "name": "stdout",
     "output_type": "stream",
     "text": [
      "[[3 3 3]\n",
      " [3 3 3]\n",
      " [3 3 3]\n",
      " [3 3 3]]\n"
     ]
    }
   ],
   "source": [
    "c=np.full((4,3),3)\n",
    "print(c)"
   ]
  },
  {
   "cell_type": "code",
   "execution_count": 11,
   "id": "ef8690ae",
   "metadata": {},
   "outputs": [
    {
     "name": "stdout",
     "output_type": "stream",
     "text": [
      "[ 3  8 13 18 23 28 33]\n"
     ]
    }
   ],
   "source": [
    "e=np.arange(3,36,5)\n",
    "print(e)"
   ]
  },
  {
   "cell_type": "code",
   "execution_count": 12,
   "id": "d3bb2723",
   "metadata": {},
   "outputs": [
    {
     "name": "stdout",
     "output_type": "stream",
     "text": [
      "[[3 3 3 3]\n",
      " [3 3 3 3]\n",
      " [3 3 3 3]]\n"
     ]
    }
   ],
   "source": [
    "print(c.reshape(3,4))\n"
   ]
  },
  {
   "cell_type": "code",
   "execution_count": 15,
   "id": "cd8be774",
   "metadata": {},
   "outputs": [
    {
     "name": "stdout",
     "output_type": "stream",
     "text": [
      "[3 3 3 3 3 3 3 3 3 3 3 3]\n"
     ]
    }
   ],
   "source": [
    "print(c.flatten())"
   ]
  },
  {
   "cell_type": "code",
   "execution_count": 16,
   "id": "e13c8f48",
   "metadata": {},
   "outputs": [
    {
     "name": "stdout",
     "output_type": "stream",
     "text": [
      "2\n"
     ]
    }
   ],
   "source": [
    "print(c.ndim)\n"
   ]
  },
  {
   "cell_type": "code",
   "execution_count": null,
   "id": "ada47190",
   "metadata": {},
   "outputs": [],
   "source": []
  }
 ],
 "metadata": {
  "kernelspec": {
   "display_name": "Python 3 (ipykernel)",
   "language": "python",
   "name": "python3"
  },
  "language_info": {
   "codemirror_mode": {
    "name": "ipython",
    "version": 3
   },
   "file_extension": ".py",
   "mimetype": "text/x-python",
   "name": "python",
   "nbconvert_exporter": "python",
   "pygments_lexer": "ipython3",
   "version": "3.11.3"
  }
 },
 "nbformat": 4,
 "nbformat_minor": 5
}
