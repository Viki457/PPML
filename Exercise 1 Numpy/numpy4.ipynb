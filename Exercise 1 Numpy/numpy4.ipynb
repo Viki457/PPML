{
 "cells": [
  {
   "cell_type": "code",
   "execution_count": 4,
   "id": "dc355506",
   "metadata": {},
   "outputs": [
    {
     "name": "stdout",
     "output_type": "stream",
     "text": [
      "[ 1 23 23 12 15] \n",
      " [13 12 34 67 56]\n",
      "[14 35 57 79 71]\n",
      "[-12  11 -11 -55 -41]\n",
      "[0.07692308 1.91666667 0.67647059 0.17910448 0.26785714]\n"
     ]
    }
   ],
   "source": [
    "import numpy as np\n",
    "arr1=np.array([1,23,23,12,15])\n",
    "arr2=np.array([13,12,34,67,56])\n",
    "print(arr1,\"\\n\",arr2)\n",
    "print(arr1+arr2)\n",
    "print(arr1-arr2)\n",
    "print(arr1/arr2)"
   ]
  },
  {
   "cell_type": "raw",
   "id": "60c9c09d",
   "metadata": {},
   "source": [
    "sclr=5\n",
    "print(sclr*arr1)\n",
    "   \n"
   ]
  },
  {
   "cell_type": "code",
   "execution_count": 4,
   "id": "e16e46ae",
   "metadata": {},
   "outputs": [
    {
     "name": "stdout",
     "output_type": "stream",
     "text": [
      "[5 7 9]\n"
     ]
    }
   ],
   "source": [
    "import numpy as np\n",
    "def fun(x,y):\n",
    "   if x>y:\n",
    "       return x-y\n",
    "   else:\n",
    "       return x+y\n",
    "arr1=[1,2,3]\n",
    "arr2=[4,5,6]\n",
    "vec_func=np.vectorize(fun)\n",
    "print(vec_func(arr1,arr2))\n",
    "   \n"
   ]
  },
  {
   "cell_type": "code",
   "execution_count": 5,
   "id": "782623b4",
   "metadata": {},
   "outputs": [
    {
     "name": "stdout",
     "output_type": "stream",
     "text": [
      "[1, 2, 3, 1, 2, 3, 1, 2, 3, 1, 2, 3, 1, 2, 3]\n"
     ]
    }
   ],
   "source": [
    "sclr=5\n",
    "print(sclr*arr1)\n",
    "   "
   ]
  },
  {
   "cell_type": "code",
   "execution_count": null,
   "id": "76d95021",
   "metadata": {},
   "outputs": [],
   "source": []
  },
  {
   "cell_type": "code",
   "execution_count": null,
   "id": "4bc8a0d6",
   "metadata": {},
   "outputs": [],
   "source": []
  },
  {
   "cell_type": "code",
   "execution_count": null,
   "id": "47314727",
   "metadata": {},
   "outputs": [],
   "source": []
  },
  {
   "cell_type": "code",
   "execution_count": null,
   "id": "b1889161",
   "metadata": {},
   "outputs": [],
   "source": []
  },
  {
   "cell_type": "code",
   "execution_count": null,
   "id": "3295547e",
   "metadata": {},
   "outputs": [],
   "source": []
  }
 ],
 "metadata": {
  "kernelspec": {
   "display_name": "Python 3 (ipykernel)",
   "language": "python",
   "name": "python3"
  },
  "language_info": {
   "codemirror_mode": {
    "name": "ipython",
    "version": 3
   },
   "file_extension": ".py",
   "mimetype": "text/x-python",
   "name": "python",
   "nbconvert_exporter": "python",
   "pygments_lexer": "ipython3",
   "version": "3.11.3"
  }
 },
 "nbformat": 4,
 "nbformat_minor": 5
}
