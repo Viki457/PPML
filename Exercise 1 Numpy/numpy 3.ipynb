{
 "cells": [
  {
   "cell_type": "code",
   "execution_count": 1,
   "id": "d4a396e7",
   "metadata": {},
   "outputs": [
    {
     "name": "stdout",
     "output_type": "stream",
     "text": [
      "(array([ 5, 10, 11], dtype=int64),)\n"
     ]
    }
   ],
   "source": [
    "import numpy as n\n",
    "arr=n.array([1,2,45,12,23,3,4,45,34,121,3,3,45])\n",
    "temp=n.where(arr==3)\n",
    "print(temp)"
   ]
  },
  {
   "cell_type": "code",
   "execution_count": 3,
   "id": "55140d0a",
   "metadata": {},
   "outputs": [
    {
     "name": "stdout",
     "output_type": "stream",
     "text": [
      "(array([1, 3, 6, 8], dtype=int64),)\n"
     ]
    }
   ],
   "source": [
    "temp1=n.where(arr%2==0)\n",
    "print(temp1)"
   ]
  },
  {
   "cell_type": "code",
   "execution_count": 4,
   "id": "a8a10867",
   "metadata": {},
   "outputs": [
    {
     "name": "stdout",
     "output_type": "stream",
     "text": [
      "[  1   2   3   3   3   4  12  23  34  45  45  45 121]\n"
     ]
    }
   ],
   "source": [
    "x=n.sort(arr)\n",
    "print(x)"
   ]
  },
  {
   "cell_type": "code",
   "execution_count": 5,
   "id": "8704a14f",
   "metadata": {},
   "outputs": [
    {
     "name": "stdout",
     "output_type": "stream",
     "text": [
      "6\n"
     ]
    }
   ],
   "source": [
    "y=n.searchsorted(x,6)\n",
    "print(y)"
   ]
  },
  {
   "cell_type": "code",
   "execution_count": 8,
   "id": "fc6153f5",
   "metadata": {},
   "outputs": [
    {
     "name": "stdout",
     "output_type": "stream",
     "text": [
      "[  1   3   3  12  34  45 121]\n"
     ]
    }
   ],
   "source": [
    "z=n.array([[1,4,5,2],[12,4,5,2]])\n",
    "x1=[True,False,True,False,True,False,True,False,True,False,True,False,True]\n",
    "new=x[x1]\n",
    "print(new)\n"
   ]
  },
  {
   "cell_type": "code",
   "execution_count": 9,
   "id": "1e7023e4",
   "metadata": {},
   "outputs": [
    {
     "ename": "SyntaxError",
     "evalue": "cannot assign to expression here. Maybe you meant '==' instead of '='? (3579900750.py, line 2)",
     "output_type": "error",
     "traceback": [
      "\u001b[1;36m  Cell \u001b[1;32mIn[9], line 2\u001b[1;36m\u001b[0m\n\u001b[1;33m    x-2=arr21>3\u001b[0m\n\u001b[1;37m    ^\u001b[0m\n\u001b[1;31mSyntaxError\u001b[0m\u001b[1;31m:\u001b[0m cannot assign to expression here. Maybe you meant '==' instead of '='?\n"
     ]
    }
   ],
   "source": [
    "arr21=n.array([1,2,3,4])\n",
    "x_2=arr21>3\n",
    "print(arr21[x-2])"
   ]
  },
  {
   "cell_type": "code",
   "execution_count": null,
   "id": "5b01fed6",
   "metadata": {},
   "outputs": [],
   "source": []
  }
 ],
 "metadata": {
  "kernelspec": {
   "display_name": "Python 3 (ipykernel)",
   "language": "python",
   "name": "python3"
  },
  "language_info": {
   "codemirror_mode": {
    "name": "ipython",
    "version": 3
   },
   "file_extension": ".py",
   "mimetype": "text/x-python",
   "name": "python",
   "nbconvert_exporter": "python",
   "pygments_lexer": "ipython3",
   "version": "3.11.3"
  }
 },
 "nbformat": 4,
 "nbformat_minor": 5
}
